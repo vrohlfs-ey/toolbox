{
 "cells": [
  {
   "cell_type": "markdown",
   "metadata": {},
   "source": [
    "---\n",
    "# Machine Leaning Methods: K Means Clustering\n",
    "---\n",
    "We will use scikit-learn for clustering in the following example. Scikit-learn is the go-to package for machine learning in Python. It is built on top of the other packages we've discussed (i.e. numpy, SciPy, matplotlib, etc.). "
   ]
  },
  {
   "cell_type": "markdown",
   "metadata": {},
   "source": [
    "---\n",
    "## Introduction to K means\n",
    "---\n",
    "<b>K means clustering function</b><br>\n",
    "class sklearn.cluster.KMeans(n_clusters=8, init=’k-means++’, n_init=10, max_iter=300, tol=0.0001, precompute_distances=’auto’, verbose=0, random_state=None, copy_x=True, n_jobs=1, algorithm=’auto’)\n",
    "\n",
    "#### Commonly Used Parameters\n",
    "\t\n",
    "<b> n_clusters: </b> int, optional, default: 8 <br>\n",
    "The number of clusters to form as well as the number of centroids to generate.<br>\n",
    "\n",
    "<b> init: </b> {'k-means++', 'random' or an ndarray}, default: 'k-means++' <br>\n",
    "Method for initialization.\n",
    "\n",
    "‘k-means++’ : selects initial cluster centers for k-mean clustering in a smart way to speed up convergence. \n",
    "\n",
    "‘random’: choose k observations (rows) at random from data for the initial centroids.\n",
    "\n",
    "If an ndarray is passed, it should be of shape (n_clusters, n_features) and gives the initial centers.\n",
    "<br>\n",
    "\n",
    "<b> n_init: </b> int, default: 10 <br>\n",
    "Number of time the k-means algorithm will be run with different centroid seeds. The final results will be the best output of n_init consecutive runs in terms of inertia.<br>\n",
    "\n",
    "<b> max_iter: </b> int, default: 300 <br>\n",
    "Maximum number of iterations of the k-means algorithm for a single run.<br>\n",
    "\n",
    "<b> random_state: </b> int, RandomState instance of None, optional, default: None <br>\n",
    "If int, random_state is the seed used by the random number generator; If RandomState instance, random_state is the random number generator; If None, the random number generator is the RandomState instance used by np.random.<br>\n",
    "\n",
    "#### Attributes\n",
    "<b> cluster\\_centers\\_: </b> array, [n_clusters, n_features] <br>\n",
    "Coordinates of cluster centers<br>\n",
    "\n",
    "<b> labels_: </b> int, default: 300 <br>\n",
    "Labels of each point<br>\n",
    "\n",
    "<b> inertia_: </b> int, default: 300 <br>\n",
    "Sum of squared distances of samples to their closest cluster center.<br>"
   ]
  },
  {
   "cell_type": "markdown",
   "metadata": {},
   "source": [
    "The table below shows common methods that are a part of the k Means package:"
   ]
  },
  {
   "cell_type": "markdown",
   "metadata": {},
   "source": [
    "| Method | Description         \n",
    "| ------------- |:------------- \n",
    "|fit (X[,y])| Compute k-means clustering.\n",
    "|fit_predict (X[,y])| Compute cluster centers and predict cluster index for each sample.\n",
    "|fit_transform (X[,y])| Compute clustering and transfirm X to cluster-distance space.\n",
    "|get_params ([deep])| Get parameters for this estimator.\n",
    "|predict (X)| Predict the closest cluster each sample in X belongs to.\n",
    "|score (X[,y])| Opposite of the value of X on the K-means objective.\n",
    "|set_params (\\*\\*params)| Set the parameters of this estimator.\n",
    "|transform (X)| Transform X to a cluster-distance space."
   ]
  },
  {
   "cell_type": "markdown",
   "metadata": {},
   "source": [
    "In order to use the k Means functions, you must import the package from sklearn.cluster, as seen below:"
   ]
  },
  {
   "cell_type": "code",
   "execution_count": 1,
   "metadata": {},
   "outputs": [],
   "source": [
    "from sklearn.cluster import KMeans"
   ]
  },
  {
   "cell_type": "markdown",
   "metadata": {},
   "source": [
    "---\n",
    "## Example: Using Iris Sci-kit Learn Dataset \n",
    "---"
   ]
  },
  {
   "cell_type": "code",
   "execution_count": 2,
   "metadata": {},
   "outputs": [
    {
     "name": "stdout",
     "output_type": "stream",
     "text": [
      "Actual Classifications\n",
      "[0 0 0 0 0 0 0 0 0 0 0 0 0 0 0 0 0 0 0 0 0 0 0 0 0 0 0 0 0 0 0 0 0 0 0 0 0\n",
      " 0 0 0 0 0 0 0 0 0 0 0 0 0 1 1 1 1 1 1 1 1 1 1 1 1 1 1 1 1 1 1 1 1 1 1 1 1\n",
      " 1 1 1 1 1 1 1 1 1 1 1 1 1 1 1 1 1 1 1 1 1 1 1 1 1 1 2 2 2 2 2 2 2 2 2 2 2\n",
      " 2 2 2 2 2 2 2 2 2 2 2 2 2 2 2 2 2 2 2 2 2 2 2 2 2 2 2 2 2 2 2 2 2 2 2 2 2\n",
      " 2 2]\n",
      "\n",
      "K means results using: 8 clusters\n",
      "[1 5 5 5 1 1 5 1 5 5 1 5 5 5 1 1 1 1 1 1 1 1 5 1 5 5 1 1 1 5 5 1 1 1 5 5 1\n",
      " 5 5 1 1 5 5 1 1 5 1 5 1 5 2 2 2 7 2 7 2 6 2 7 6 7 7 2 7 2 7 7 2 7 4 7 4 2\n",
      " 2 2 2 2 2 7 7 7 7 4 7 2 2 2 7 7 7 2 7 6 7 7 7 2 6 7 0 4 3 0 0 3 7 3 0 3 0\n",
      " 4 0 4 4 0 0 3 3 4 0 4 3 4 0 3 4 4 0 3 3 3 0 4 4 3 0 0 4 0 0 0 4 0 0 0 4 0\n",
      " 0 4]\n",
      "\n",
      "K means results using: 3 clusters\n",
      "[0 0 0 0 0 0 0 0 0 0 0 0 0 0 0 0 0 0 0 0 0 0 0 0 0 0 0 0 0 0 0 0 0 0 0 0 0\n",
      " 0 0 0 0 0 0 0 0 0 0 0 0 0 2 2 1 2 2 2 2 2 2 2 2 2 2 2 2 2 2 2 2 2 2 2 2 2\n",
      " 2 2 2 1 2 2 2 2 2 2 2 2 2 2 2 2 2 2 2 2 2 2 2 2 2 2 1 2 1 1 1 1 2 1 1 1 1\n",
      " 1 1 2 2 1 1 1 1 2 1 2 1 2 1 1 2 2 1 1 1 1 1 2 1 1 1 1 2 1 1 1 2 1 1 1 2 1\n",
      " 1 2]\n",
      "\n"
     ]
    }
   ],
   "source": [
    "import numpy as np\n",
    "from sklearn import datasets\n",
    "\n",
    "np.random.seed(5)\n",
    "\n",
    "# Loading the Iris dataset. This data sets consists of 3 different types of irises’ \n",
    "# (Setosa, Versicolour, and Virginica) petal and sepal length, stored in a 150x4 numpy.ndarray.\n",
    "# The rows being the samples and the columns being: Sepal Length, Sepal Width, Petal Length and Petal Width.\n",
    "iris = datasets.load_iris()\n",
    "\n",
    "#Assigning the 4 columns of data (epal Length, Sepal Width, Petal Length and Petal Width) to the variable X\n",
    "X = iris.data\n",
    "\n",
    "#Assigning the actual classification (Setosa, Versicolour, and Virginica) to the variable y\n",
    "y = iris.target\n",
    "\n",
    "print(\"Actual Classifications\")\n",
    "print(y)\n",
    "print()\n",
    "\n",
    "#K means clustering results with 8 clusters\n",
    "estimators_8 = KMeans(n_clusters=8)\n",
    "est_8 = estimators_8.fit(X)\n",
    "labels_8 = est_8.labels_\n",
    "print(\"K means results using: 8 clusters\")\n",
    "print(labels_8)\n",
    "print()\n",
    "\n",
    "#K means clustering results with 3 clusters\n",
    "estimators_3 = KMeans(n_clusters=3)\n",
    "est_3 = estimators_3.fit(X)\n",
    "labels_3 = est_3.labels_\n",
    "print(\"K means results using: 3 clusters\")\n",
    "print(labels_3)\n",
    "print()\n"
   ]
  },
  {
   "cell_type": "markdown",
   "metadata": {},
   "source": [
    "We are unable to compare the results of the 8 clusters against the original classifications due to the difference in number of categories. However, below we show the results of K means clustering using 3 clusters."
   ]
  },
  {
   "cell_type": "code",
   "execution_count": 3,
   "metadata": {},
   "outputs": [
    {
     "name": "stdout",
     "output_type": "stream",
     "text": [
      "Prediction   0   1   2\n",
      "Target                \n",
      "0           50   0   0\n",
      "1            0   2  48\n",
      "2            0  36  14\n",
      "\n",
      "Classifications of Iris Flowers\n",
      "['setosa', 'versicolor', 'virginica']\n"
     ]
    }
   ],
   "source": [
    "import pandas as pd\n",
    "\n",
    "pd_labels_3 = pd.DataFrame(labels_3)\n",
    "pd_target = pd.DataFrame(y)\n",
    "\n",
    "results = pd_labels_3\n",
    "results = results.rename(columns={0 : 'Prediction'})\n",
    "results['Target'] = pd_target\n",
    "\n",
    "#Using Crosstab to print results\n",
    "print(pd.crosstab(results['Target'], results['Prediction']))\n",
    "print()\n",
    "\n",
    "print(\"Classifications of Iris Flowers\")\n",
    "print(list(iris.target_names))"
   ]
  },
  {
   "cell_type": "markdown",
   "metadata": {},
   "source": [
    "The results of the K means algorithm for 3 clusters is as follows:\n",
    "    1. Cluster 0 contained all of the Setosa iris flowers.\n",
    "    2. Cluster 1 contained 2 of the Versicolor iris flowers and 48 of the Virginica iris flowers.\n",
    "    3. Cluster 2 contained 36 of the Versicolor iris flowers and 14 of the Virginica iris flowers."
   ]
  },
  {
   "cell_type": "markdown",
   "metadata": {},
   "source": [
    "The k-Means clustering algorithm is a strong choice when trying to solve any type of \"grouping\" task. The code above is a good starting point for implementing the k-Means algoritm on your engagements. Further information can be found in the section below:"
   ]
  },
  {
   "cell_type": "markdown",
   "metadata": {},
   "source": [
    "### Other Useful Resources\n",
    "- [Introduction to k-Means Clustering](https://www.datascience.com/blog/k-means-clustering)\n",
    "- [K-means clustering: how it works](https://www.youtube.com/watch?v=_aWzGGNrcic)"
   ]
  }
 ],
 "metadata": {
  "kernelspec": {
   "display_name": "Python 3",
   "language": "python",
   "name": "python3"
  },
  "language_info": {
   "codemirror_mode": {
    "name": "ipython",
    "version": 3
   },
   "file_extension": ".py",
   "mimetype": "text/x-python",
   "name": "python",
   "nbconvert_exporter": "python",
   "pygments_lexer": "ipython3",
   "version": "3.6.4"
  }
 },
 "nbformat": 4,
 "nbformat_minor": 2
}
